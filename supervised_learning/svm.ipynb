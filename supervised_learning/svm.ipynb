{
 "cells": [
  {
   "cell_type": "markdown",
   "id": "2c1a1c06",
   "metadata": {},
   "source": [
    "Kernelized Support Vector Machines"
   ]
  },
  {
   "cell_type": "code",
   "execution_count": null,
   "id": "7e8eda42",
   "metadata": {},
   "outputs": [],
   "source": [
    "import mglearn\n",
    "import matplotlib.pyplot as plt\n",
    "from sklearn.svm import LinearSVC\n",
    "import numpy as np\n",
    "\n",
    "\n",
    "\n",
    "X,y = mglearn.datasets.make_blob(centers=4, random_state=8)\n",
    "linear_svm = LinearSVC().fit(X,y)\n",
    "\n",
    "mglearn.plots.plot_2d_separator(linear_svm, X)\n",
    "mglearn.discrete_scatter(X[:,0], X[:,1], y)\n",
    "plt.xlabel('Feature 0')\n",
    "plt.ylabel('Feature 1')\n",
    "\n",
    "# let's make a three-dimensional scatterplot\n",
    "# add the squared second feature\n",
    "X_new = np.hstack([X, X[:,1:] **2])\n",
    "from mpl_toolkits.mplot3d import Axes3D, axes3d\n",
    "figure = plt.figure()\n",
    "# visualize in 3D\n",
    "ax = Axes3D(figure, elev=-152, azim=-26)"
   ]
  }
 ],
 "metadata": {
  "language_info": {
   "name": "python"
  }
 },
 "nbformat": 4,
 "nbformat_minor": 5
}
