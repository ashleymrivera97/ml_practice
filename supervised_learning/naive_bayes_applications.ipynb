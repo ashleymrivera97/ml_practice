{
 "cells": [
  {
   "cell_type": "markdown",
   "id": "176a764d",
   "metadata": {},
   "source": [
    "Naive Bayes Classifiers\n",
    "These are a family of classifiers that are quite similar to the linear models discussed in the previous section. However, they tend to be even faster in training. The price paid for this efficiency is that naive Bayes models often provide generalization performance that is slightly worse than that of linear classifiers like LogisticsRegression and LinearSVC.\n",
    "\n",
    "The reason that naive Bayes models are so efficient is that they learn parameters by looking at each feature individually and collect simple per-class statistics from each feature. There are three kinds of naive Bayes classifiers implemented in scikit-learn: GuassianNB, BernoulliNB, and MultinominalNB.\n",
    "\n",
    "GuassianNB can be applied to any continuous data, while BernoulliNB assumes binary data and MultinominalNB assumes count data."
   ]
  }
 ],
 "metadata": {
  "language_info": {
   "name": "python"
  }
 },
 "nbformat": 4,
 "nbformat_minor": 5
}
